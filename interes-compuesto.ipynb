{
 "cells": [
  {
   "cell_type": "markdown",
   "id": "298f208e-d967-4ed4-9376-f710ccbe0139",
   "metadata": {},
   "source": [
    "# Interes compuesto"
   ]
  },
  {
   "cell_type": "code",
   "execution_count": 2,
   "id": "71f607f3-98c1-4e87-9332-c707ec7e7a48",
   "metadata": {},
   "outputs": [],
   "source": [
    "def interes_compuesto(principal, tasa, periodos):\n",
    "    \"\"\"\n",
    "    Cálculo del interés compuesto.\n",
    "    \n",
    "    A = P * (1 + r) ** n\n",
    "    \n",
    "    - principal: Monto inicial\n",
    "    - tasa: Tasa de interés anual en decimales (ej: 0.05)\n",
    "    - periodos: Número de años o periodos\n",
    "    \n",
    "    Retorna el monto final acumulado.\n",
    "    \"\"\"\n",
    "    monto = principal * (1 + tasa) ** periodos\n",
    "    return monto\n"
   ]
  },
  {
   "cell_type": "markdown",
   "id": "bc117933-cc1d-4ff5-99fb-1b18506ce13b",
   "metadata": {},
   "source": [
    "# Hagamos una prueba "
   ]
  },
  {
   "cell_type": "code",
   "execution_count": 5,
   "id": "79447f4a-ef71-4bc3-a93d-cb5e89c2de58",
   "metadata": {},
   "outputs": [
    {
     "name": "stdout",
     "output_type": "stream",
     "text": [
      "Monto final: $1469.33\n"
     ]
    }
   ],
   "source": [
    "# Prueba\n",
    "P = 1000  # Monto inicial\n",
    "r = 0.08  # 8% anual\n",
    "n = 5     # 5 años\n",
    "\n",
    "resultado = interes_compuesto(P, r, n)\n",
    "print(f\"Monto final: ${resultado:.2f}\")\n"
   ]
  },
  {
   "cell_type": "markdown",
   "id": "db486ba3-8775-4052-aefa-a13583cc8f35",
   "metadata": {},
   "source": []
  }
 ],
 "metadata": {
  "kernelspec": {
   "display_name": "Python [conda env:base] *",
   "language": "python",
   "name": "conda-base-py"
  },
  "language_info": {
   "codemirror_mode": {
    "name": "ipython",
    "version": 3
   },
   "file_extension": ".py",
   "mimetype": "text/x-python",
   "name": "python",
   "nbconvert_exporter": "python",
   "pygments_lexer": "ipython3",
   "version": "3.11.5"
  }
 },
 "nbformat": 4,
 "nbformat_minor": 5
}
